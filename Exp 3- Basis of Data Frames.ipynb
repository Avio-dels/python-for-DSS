{
 "cells": [
  {
   "cell_type": "markdown",
   "id": "32436e04-081d-42b6-b3e2-614648e8c3c1",
   "metadata": {},
   "source": [
    "Basics of Data Frame"
   ]
  },
  {
   "cell_type": "code",
   "execution_count": 48,
   "id": "c7e32a09-ef87-4b7e-a63c-cec4976554e4",
   "metadata": {},
   "outputs": [],
   "source": [
    "#Exp no. : 3\n",
    "\n",
    "#Aim : Basics of Data Frame"
   ]
  },
  {
   "cell_type": "code",
   "execution_count": 46,
   "id": "fcd26f66-adfa-4e6c-8aca-beefa4a260de",
   "metadata": {},
   "outputs": [],
   "source": [
    "#Name : Ayush N. Nagdive\n",
    "#Roll no. : 42\n",
    "#Section : B\n",
    "#Subject : PE-I"
   ]
  },
  {
   "cell_type": "code",
   "execution_count": 2,
   "id": "8304b971-9a19-4cff-8081-edb20385ae97",
   "metadata": {},
   "outputs": [],
   "source": [
    "import pandas as pd"
   ]
  },
  {
   "cell_type": "code",
   "execution_count": 3,
   "id": "1e69ccd3-c555-4215-971b-f1a9804fc3f9",
   "metadata": {},
   "outputs": [],
   "source": [
    "#Creating Student Name List\n",
    "Name=[\"Mayur\",\"Shreeya\",\"Nikhil\",\"Ayush\",\"Krish\"]"
   ]
  },
  {
   "cell_type": "code",
   "execution_count": 4,
   "id": "604622b9-69d4-47ef-af66-9389d88f9981",
   "metadata": {},
   "outputs": [
    {
     "data": {
      "text/plain": [
       "['Mayur', 'Shreeya', 'Nikhil', 'Ayush', 'Krish']"
      ]
     },
     "execution_count": 4,
     "metadata": {},
     "output_type": "execute_result"
    }
   ],
   "source": [
    "Name"
   ]
  },
  {
   "cell_type": "code",
   "execution_count": 5,
   "id": "1ba46869-d869-4131-b213-f79b9e197618",
   "metadata": {},
   "outputs": [
    {
     "name": "stdout",
     "output_type": "stream",
     "text": [
      "1      Mayur\n",
      "2    Shreeya\n",
      "3     Nikhil\n",
      "4      Ayush\n",
      "5      Krish\n",
      "dtype: object\n"
     ]
    }
   ],
   "source": [
    "#Creating a Series\n",
    "Roll_list=pd.Series(Name,index=[1,2,3,4,5])\n",
    "print(Roll_list)"
   ]
  },
  {
   "cell_type": "markdown",
   "id": "1158b8de-af34-48cd-97aa-dea8dc66a7b6",
   "metadata": {},
   "source": [
    "Creating Data Frame "
   ]
  },
  {
   "cell_type": "code",
   "execution_count": 6,
   "id": "2b134408-0e76-4171-b93d-d6611cc7b487",
   "metadata": {},
   "outputs": [],
   "source": [
    "#Creating Data Frame\n",
    "df=pd.DataFrame([[10,12,14,16],[11,18,15,21],[12,13,14,15]],\n",
    "columns= [\"CD\",\"DBMS\",\"DSS\",\"CAO\"])"
   ]
  },
  {
   "cell_type": "code",
   "execution_count": 7,
   "id": "605ed08d-363f-4d57-8b06-72d8bee94ca1",
   "metadata": {},
   "outputs": [
    {
     "data": {
      "text/html": [
       "<div>\n",
       "<style scoped>\n",
       "    .dataframe tbody tr th:only-of-type {\n",
       "        vertical-align: middle;\n",
       "    }\n",
       "\n",
       "    .dataframe tbody tr th {\n",
       "        vertical-align: top;\n",
       "    }\n",
       "\n",
       "    .dataframe thead th {\n",
       "        text-align: right;\n",
       "    }\n",
       "</style>\n",
       "<table border=\"1\" class=\"dataframe\">\n",
       "  <thead>\n",
       "    <tr style=\"text-align: right;\">\n",
       "      <th></th>\n",
       "      <th>CD</th>\n",
       "      <th>DBMS</th>\n",
       "      <th>DSS</th>\n",
       "      <th>CAO</th>\n",
       "    </tr>\n",
       "  </thead>\n",
       "  <tbody>\n",
       "    <tr>\n",
       "      <th>0</th>\n",
       "      <td>10</td>\n",
       "      <td>12</td>\n",
       "      <td>14</td>\n",
       "      <td>16</td>\n",
       "    </tr>\n",
       "    <tr>\n",
       "      <th>1</th>\n",
       "      <td>11</td>\n",
       "      <td>18</td>\n",
       "      <td>15</td>\n",
       "      <td>21</td>\n",
       "    </tr>\n",
       "    <tr>\n",
       "      <th>2</th>\n",
       "      <td>12</td>\n",
       "      <td>13</td>\n",
       "      <td>14</td>\n",
       "      <td>15</td>\n",
       "    </tr>\n",
       "  </tbody>\n",
       "</table>\n",
       "</div>"
      ],
      "text/plain": [
       "   CD  DBMS  DSS  CAO\n",
       "0  10    12   14   16\n",
       "1  11    18   15   21\n",
       "2  12    13   14   15"
      ]
     },
     "execution_count": 7,
     "metadata": {},
     "output_type": "execute_result"
    }
   ],
   "source": [
    "df"
   ]
  },
  {
   "cell_type": "code",
   "execution_count": 8,
   "id": "3ea76d15-9ad6-44a2-b94f-4d078800e85c",
   "metadata": {},
   "outputs": [
    {
     "data": {
      "text/plain": [
       "(3, 4)"
      ]
     },
     "execution_count": 8,
     "metadata": {},
     "output_type": "execute_result"
    }
   ],
   "source": [
    "df.shape"
   ]
  },
  {
   "cell_type": "code",
   "execution_count": 9,
   "id": "19403eb8-fc99-40f4-9e5a-707331ed78b6",
   "metadata": {},
   "outputs": [
    {
     "data": {
      "text/plain": [
       "12"
      ]
     },
     "execution_count": 9,
     "metadata": {},
     "output_type": "execute_result"
    }
   ],
   "source": [
    "df.size"
   ]
  },
  {
   "cell_type": "code",
   "execution_count": 10,
   "id": "00a78412-de89-4af4-9964-92c0f8508df7",
   "metadata": {},
   "outputs": [
    {
     "data": {
      "text/plain": [
       "2"
      ]
     },
     "execution_count": 10,
     "metadata": {},
     "output_type": "execute_result"
    }
   ],
   "source": [
    "df.ndim"
   ]
  },
  {
   "cell_type": "markdown",
   "id": "ffefa189-3648-4679-9e2d-e3ec63aa1571",
   "metadata": {},
   "source": [
    "Adding Record (Row) to the data frame"
   ]
  },
  {
   "cell_type": "code",
   "execution_count": 11,
   "id": "5f75cb16-66f8-4509-94a3-88586d5a4c1e",
   "metadata": {},
   "outputs": [],
   "source": [
    "df2=pd.DataFrame([[5,6,7,8]],\n",
    "columns= [\"CD\",\"DBMS\",\"DSS\",\"CAO\"])"
   ]
  },
  {
   "cell_type": "code",
   "execution_count": 12,
   "id": "7b430f90-c0b6-47c5-87e3-d880a9eb8177",
   "metadata": {},
   "outputs": [
    {
     "data": {
      "text/html": [
       "<div>\n",
       "<style scoped>\n",
       "    .dataframe tbody tr th:only-of-type {\n",
       "        vertical-align: middle;\n",
       "    }\n",
       "\n",
       "    .dataframe tbody tr th {\n",
       "        vertical-align: top;\n",
       "    }\n",
       "\n",
       "    .dataframe thead th {\n",
       "        text-align: right;\n",
       "    }\n",
       "</style>\n",
       "<table border=\"1\" class=\"dataframe\">\n",
       "  <thead>\n",
       "    <tr style=\"text-align: right;\">\n",
       "      <th></th>\n",
       "      <th>CD</th>\n",
       "      <th>DBMS</th>\n",
       "      <th>DSS</th>\n",
       "      <th>CAO</th>\n",
       "    </tr>\n",
       "  </thead>\n",
       "  <tbody>\n",
       "    <tr>\n",
       "      <th>0</th>\n",
       "      <td>5</td>\n",
       "      <td>6</td>\n",
       "      <td>7</td>\n",
       "      <td>8</td>\n",
       "    </tr>\n",
       "  </tbody>\n",
       "</table>\n",
       "</div>"
      ],
      "text/plain": [
       "   CD  DBMS  DSS  CAO\n",
       "0   5     6    7    8"
      ]
     },
     "execution_count": 12,
     "metadata": {},
     "output_type": "execute_result"
    }
   ],
   "source": [
    "df2"
   ]
  },
  {
   "cell_type": "code",
   "execution_count": 27,
   "id": "15ab9b40-bd24-46c7-bb24-44b3dfa94afc",
   "metadata": {},
   "outputs": [],
   "source": [
    "df3 = pd.concat([df, df2], ignore_index=True)  #you can also use df3=df.append(df2,ignore_index=True)"
   ]
  },
  {
   "cell_type": "code",
   "execution_count": 17,
   "id": "9c1b1beb-322d-44b6-b489-35fc1b82e82a",
   "metadata": {},
   "outputs": [
    {
     "data": {
      "text/html": [
       "<div>\n",
       "<style scoped>\n",
       "    .dataframe tbody tr th:only-of-type {\n",
       "        vertical-align: middle;\n",
       "    }\n",
       "\n",
       "    .dataframe tbody tr th {\n",
       "        vertical-align: top;\n",
       "    }\n",
       "\n",
       "    .dataframe thead th {\n",
       "        text-align: right;\n",
       "    }\n",
       "</style>\n",
       "<table border=\"1\" class=\"dataframe\">\n",
       "  <thead>\n",
       "    <tr style=\"text-align: right;\">\n",
       "      <th></th>\n",
       "      <th>CD</th>\n",
       "      <th>DBMS</th>\n",
       "      <th>DSS</th>\n",
       "      <th>CAO</th>\n",
       "    </tr>\n",
       "  </thead>\n",
       "  <tbody>\n",
       "    <tr>\n",
       "      <th>0</th>\n",
       "      <td>10</td>\n",
       "      <td>12</td>\n",
       "      <td>14</td>\n",
       "      <td>16</td>\n",
       "    </tr>\n",
       "    <tr>\n",
       "      <th>1</th>\n",
       "      <td>11</td>\n",
       "      <td>18</td>\n",
       "      <td>15</td>\n",
       "      <td>21</td>\n",
       "    </tr>\n",
       "    <tr>\n",
       "      <th>2</th>\n",
       "      <td>12</td>\n",
       "      <td>13</td>\n",
       "      <td>14</td>\n",
       "      <td>15</td>\n",
       "    </tr>\n",
       "    <tr>\n",
       "      <th>3</th>\n",
       "      <td>5</td>\n",
       "      <td>6</td>\n",
       "      <td>7</td>\n",
       "      <td>8</td>\n",
       "    </tr>\n",
       "  </tbody>\n",
       "</table>\n",
       "</div>"
      ],
      "text/plain": [
       "   CD  DBMS  DSS  CAO\n",
       "0  10    12   14   16\n",
       "1  11    18   15   21\n",
       "2  12    13   14   15\n",
       "3   5     6    7    8"
      ]
     },
     "execution_count": 17,
     "metadata": {},
     "output_type": "execute_result"
    }
   ],
   "source": [
    "df3"
   ]
  },
  {
   "cell_type": "code",
   "execution_count": 21,
   "id": "996fa352-0461-4aba-8363-c82f670f0bcf",
   "metadata": {},
   "outputs": [
    {
     "data": {
      "text/plain": [
       "(3, 4)"
      ]
     },
     "execution_count": 21,
     "metadata": {},
     "output_type": "execute_result"
    }
   ],
   "source": [
    "df.shape"
   ]
  },
  {
   "cell_type": "code",
   "execution_count": 22,
   "id": "c956c1a9-42e6-4caa-8c43-7b961c84b31d",
   "metadata": {},
   "outputs": [
    {
     "data": {
      "text/plain": [
       "2"
      ]
     },
     "execution_count": 22,
     "metadata": {},
     "output_type": "execute_result"
    }
   ],
   "source": [
    "df.ndim"
   ]
  },
  {
   "cell_type": "code",
   "execution_count": 23,
   "id": "a3fe46ec-2d99-4809-945e-294279b6b25e",
   "metadata": {},
   "outputs": [
    {
     "data": {
      "text/plain": [
       "12"
      ]
     },
     "execution_count": 23,
     "metadata": {},
     "output_type": "execute_result"
    }
   ],
   "source": [
    "df.size"
   ]
  },
  {
   "cell_type": "markdown",
   "id": "6dfab452-7629-428a-9788-e3fc7ffa48d6",
   "metadata": {},
   "source": [
    "Adding Attribute (Columns) name DM"
   ]
  },
  {
   "cell_type": "code",
   "execution_count": 24,
   "id": "529cd255-eec4-412f-89ed-7942f67b3b46",
   "metadata": {},
   "outputs": [],
   "source": [
    "df3[\"DM\"]=[12,15,16,14]"
   ]
  },
  {
   "cell_type": "code",
   "execution_count": 25,
   "id": "d8b25ba9-3dba-48c6-8745-637c70d38984",
   "metadata": {},
   "outputs": [
    {
     "data": {
      "text/html": [
       "<div>\n",
       "<style scoped>\n",
       "    .dataframe tbody tr th:only-of-type {\n",
       "        vertical-align: middle;\n",
       "    }\n",
       "\n",
       "    .dataframe tbody tr th {\n",
       "        vertical-align: top;\n",
       "    }\n",
       "\n",
       "    .dataframe thead th {\n",
       "        text-align: right;\n",
       "    }\n",
       "</style>\n",
       "<table border=\"1\" class=\"dataframe\">\n",
       "  <thead>\n",
       "    <tr style=\"text-align: right;\">\n",
       "      <th></th>\n",
       "      <th>CD</th>\n",
       "      <th>DBMS</th>\n",
       "      <th>DSS</th>\n",
       "      <th>CAO</th>\n",
       "      <th>DM</th>\n",
       "    </tr>\n",
       "  </thead>\n",
       "  <tbody>\n",
       "    <tr>\n",
       "      <th>0</th>\n",
       "      <td>10</td>\n",
       "      <td>12</td>\n",
       "      <td>14</td>\n",
       "      <td>16</td>\n",
       "      <td>12</td>\n",
       "    </tr>\n",
       "    <tr>\n",
       "      <th>1</th>\n",
       "      <td>11</td>\n",
       "      <td>18</td>\n",
       "      <td>15</td>\n",
       "      <td>21</td>\n",
       "      <td>15</td>\n",
       "    </tr>\n",
       "    <tr>\n",
       "      <th>2</th>\n",
       "      <td>12</td>\n",
       "      <td>13</td>\n",
       "      <td>14</td>\n",
       "      <td>15</td>\n",
       "      <td>16</td>\n",
       "    </tr>\n",
       "    <tr>\n",
       "      <th>3</th>\n",
       "      <td>5</td>\n",
       "      <td>6</td>\n",
       "      <td>7</td>\n",
       "      <td>8</td>\n",
       "      <td>14</td>\n",
       "    </tr>\n",
       "  </tbody>\n",
       "</table>\n",
       "</div>"
      ],
      "text/plain": [
       "   CD  DBMS  DSS  CAO  DM\n",
       "0  10    12   14   16  12\n",
       "1  11    18   15   21  15\n",
       "2  12    13   14   15  16\n",
       "3   5     6    7    8  14"
      ]
     },
     "execution_count": 25,
     "metadata": {},
     "output_type": "execute_result"
    }
   ],
   "source": [
    "df3"
   ]
  },
  {
   "cell_type": "markdown",
   "id": "cfa70127-169d-4891-bdb4-4c7f232bb605",
   "metadata": {},
   "source": [
    "Deleting Record from df3 dataframe"
   ]
  },
  {
   "cell_type": "code",
   "execution_count": 26,
   "id": "09c6f5b2-b7d6-4995-b700-b6faef32ce6c",
   "metadata": {},
   "outputs": [],
   "source": [
    "df4=df3.drop(index=[1])"
   ]
  },
  {
   "cell_type": "code",
   "execution_count": 28,
   "id": "83afa5ec-fd29-4cbb-abc6-e49a65515c1f",
   "metadata": {},
   "outputs": [
    {
     "data": {
      "text/html": [
       "<div>\n",
       "<style scoped>\n",
       "    .dataframe tbody tr th:only-of-type {\n",
       "        vertical-align: middle;\n",
       "    }\n",
       "\n",
       "    .dataframe tbody tr th {\n",
       "        vertical-align: top;\n",
       "    }\n",
       "\n",
       "    .dataframe thead th {\n",
       "        text-align: right;\n",
       "    }\n",
       "</style>\n",
       "<table border=\"1\" class=\"dataframe\">\n",
       "  <thead>\n",
       "    <tr style=\"text-align: right;\">\n",
       "      <th></th>\n",
       "      <th>CD</th>\n",
       "      <th>DBMS</th>\n",
       "      <th>DSS</th>\n",
       "      <th>CAO</th>\n",
       "      <th>DM</th>\n",
       "    </tr>\n",
       "  </thead>\n",
       "  <tbody>\n",
       "    <tr>\n",
       "      <th>0</th>\n",
       "      <td>10</td>\n",
       "      <td>12</td>\n",
       "      <td>14</td>\n",
       "      <td>16</td>\n",
       "      <td>12</td>\n",
       "    </tr>\n",
       "    <tr>\n",
       "      <th>2</th>\n",
       "      <td>12</td>\n",
       "      <td>13</td>\n",
       "      <td>14</td>\n",
       "      <td>15</td>\n",
       "      <td>16</td>\n",
       "    </tr>\n",
       "    <tr>\n",
       "      <th>3</th>\n",
       "      <td>5</td>\n",
       "      <td>6</td>\n",
       "      <td>7</td>\n",
       "      <td>8</td>\n",
       "      <td>14</td>\n",
       "    </tr>\n",
       "  </tbody>\n",
       "</table>\n",
       "</div>"
      ],
      "text/plain": [
       "   CD  DBMS  DSS  CAO  DM\n",
       "0  10    12   14   16  12\n",
       "2  12    13   14   15  16\n",
       "3   5     6    7    8  14"
      ]
     },
     "execution_count": 28,
     "metadata": {},
     "output_type": "execute_result"
    }
   ],
   "source": [
    "df4"
   ]
  },
  {
   "cell_type": "code",
   "execution_count": 41,
   "id": "e12ba1f9-e3b2-4e51-93f3-f5513096b436",
   "metadata": {},
   "outputs": [],
   "source": [
    "df5 = df3.drop(columns=[col for col in df3.columns if col.strip() == \"DM\"])\n",
    "\n",
    "#use this : df5=df3.drop(columns=[\"DM\"])"
   ]
  },
  {
   "cell_type": "code",
   "execution_count": 42,
   "id": "11bf738e-442f-42ef-9411-20c8878c72eb",
   "metadata": {},
   "outputs": [
    {
     "data": {
      "text/html": [
       "<div>\n",
       "<style scoped>\n",
       "    .dataframe tbody tr th:only-of-type {\n",
       "        vertical-align: middle;\n",
       "    }\n",
       "\n",
       "    .dataframe tbody tr th {\n",
       "        vertical-align: top;\n",
       "    }\n",
       "\n",
       "    .dataframe thead th {\n",
       "        text-align: right;\n",
       "    }\n",
       "</style>\n",
       "<table border=\"1\" class=\"dataframe\">\n",
       "  <thead>\n",
       "    <tr style=\"text-align: right;\">\n",
       "      <th></th>\n",
       "      <th>CD</th>\n",
       "      <th>DBMS</th>\n",
       "      <th>DSS</th>\n",
       "      <th>CAO</th>\n",
       "    </tr>\n",
       "  </thead>\n",
       "  <tbody>\n",
       "    <tr>\n",
       "      <th>0</th>\n",
       "      <td>10</td>\n",
       "      <td>12</td>\n",
       "      <td>14</td>\n",
       "      <td>16</td>\n",
       "    </tr>\n",
       "    <tr>\n",
       "      <th>1</th>\n",
       "      <td>11</td>\n",
       "      <td>18</td>\n",
       "      <td>15</td>\n",
       "      <td>21</td>\n",
       "    </tr>\n",
       "    <tr>\n",
       "      <th>2</th>\n",
       "      <td>12</td>\n",
       "      <td>13</td>\n",
       "      <td>14</td>\n",
       "      <td>15</td>\n",
       "    </tr>\n",
       "    <tr>\n",
       "      <th>3</th>\n",
       "      <td>5</td>\n",
       "      <td>6</td>\n",
       "      <td>7</td>\n",
       "      <td>8</td>\n",
       "    </tr>\n",
       "  </tbody>\n",
       "</table>\n",
       "</div>"
      ],
      "text/plain": [
       "   CD  DBMS  DSS  CAO\n",
       "0  10    12   14   16\n",
       "1  11    18   15   21\n",
       "2  12    13   14   15\n",
       "3   5     6    7    8"
      ]
     },
     "execution_count": 42,
     "metadata": {},
     "output_type": "execute_result"
    }
   ],
   "source": [
    "df5"
   ]
  },
  {
   "cell_type": "code",
   "execution_count": 43,
   "id": "a1d0a8b8-0350-471f-8074-505e37fd4f20",
   "metadata": {},
   "outputs": [
    {
     "name": "stdout",
     "output_type": "stream",
     "text": [
      "Mean of DSS: 12.5\n"
     ]
    }
   ],
   "source": [
    "#Finding mean of DSS\n",
    "print(\"Mean of DSS:\",df5[\"DSS\"].mean())"
   ]
  },
  {
   "cell_type": "code",
   "execution_count": 44,
   "id": "efc7051b-4944-4e53-a971-f68c758a3ba1",
   "metadata": {},
   "outputs": [
    {
     "name": "stdout",
     "output_type": "stream",
     "text": [
      "Median of DSS: 14.0\n"
     ]
    }
   ],
   "source": [
    "#Finding median of DSS\n",
    "print(\"Median of DSS:\",df5[\"DSS\"].median())"
   ]
  },
  {
   "cell_type": "code",
   "execution_count": 45,
   "id": "e2fbb459-f0f6-47af-90cd-e62d07818444",
   "metadata": {},
   "outputs": [
    {
     "name": "stdout",
     "output_type": "stream",
     "text": [
      "Mode of DSS: 0    14\n",
      "Name: DSS, dtype: int64\n"
     ]
    }
   ],
   "source": [
    "#Finding mode of DSS\n",
    "print(\"Mode of DSS:\",df5[\"DSS\"].mode())"
   ]
  }
 ],
 "metadata": {
  "kernelspec": {
   "display_name": "Python 3 (ipykernel)",
   "language": "python",
   "name": "python3"
  },
  "language_info": {
   "codemirror_mode": {
    "name": "ipython",
    "version": 3
   },
   "file_extension": ".py",
   "mimetype": "text/x-python",
   "name": "python",
   "nbconvert_exporter": "python",
   "pygments_lexer": "ipython3",
   "version": "3.13.5"
  }
 },
 "nbformat": 4,
 "nbformat_minor": 5
}
