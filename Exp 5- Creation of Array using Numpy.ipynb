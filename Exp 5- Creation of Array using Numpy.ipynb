{
 "cells": [
  {
   "cell_type": "markdown",
   "id": "d7c294df-f042-4f27-9c00-2d981c9844a9",
   "metadata": {},
   "source": [
    " Creation of Array"
   ]
  },
  {
   "cell_type": "code",
   "execution_count": 16,
   "id": "09fffc84-3817-4685-96ef-bdda67ed2d3c",
   "metadata": {},
   "outputs": [],
   "source": [
    "#Exp no. : 5"
   ]
  },
  {
   "cell_type": "code",
   "execution_count": 7,
   "id": "cb580983-a93c-428a-9c55-4d75d0f9ba02",
   "metadata": {},
   "outputs": [],
   "source": [
    "#Aim : Creation of Array (1D,2D and Multidimennsional array) using numpy"
   ]
  },
  {
   "cell_type": "code",
   "execution_count": 8,
   "id": "606c19c7-db67-42d5-aaa3-f5532c58dde0",
   "metadata": {},
   "outputs": [],
   "source": [
    "#Name: Ayush Nagdive\n",
    "#Roll no:42\n",
    "#Sec:B\n",
    "#Subject:ET1"
   ]
  },
  {
   "cell_type": "code",
   "execution_count": 9,
   "id": "68cae221-0c9d-4063-89c6-7f4df304390f",
   "metadata": {},
   "outputs": [],
   "source": [
    "import numpy as np"
   ]
  },
  {
   "cell_type": "code",
   "execution_count": 10,
   "id": "bef801c9-b5c7-49b9-baf2-be1db22baf4e",
   "metadata": {},
   "outputs": [],
   "source": [
    "arr1=np.array([10,20,30,40,50])"
   ]
  },
  {
   "cell_type": "code",
   "execution_count": 11,
   "id": "fb4fd563-9dbb-4cb5-9555-77823ea145f1",
   "metadata": {},
   "outputs": [
    {
     "data": {
      "text/plain": [
       "array([10, 20, 30, 40, 50])"
      ]
     },
     "execution_count": 11,
     "metadata": {},
     "output_type": "execute_result"
    }
   ],
   "source": [
    "arr1"
   ]
  },
  {
   "cell_type": "code",
   "execution_count": 12,
   "id": "26134e7f-24a7-4cc3-9bdb-23c55c220485",
   "metadata": {},
   "outputs": [],
   "source": [
    "arr2=np.array([[10,20,30,40,50],[60,70,80,90,100]])"
   ]
  },
  {
   "cell_type": "code",
   "execution_count": 13,
   "id": "38984832-5d02-4b86-9881-bedfedecc934",
   "metadata": {},
   "outputs": [
    {
     "data": {
      "text/plain": [
       "array([[ 10,  20,  30,  40,  50],\n",
       "       [ 60,  70,  80,  90, 100]])"
      ]
     },
     "execution_count": 13,
     "metadata": {},
     "output_type": "execute_result"
    }
   ],
   "source": [
    "arr2"
   ]
  },
  {
   "cell_type": "code",
   "execution_count": 14,
   "id": "7389e34a-1090-4090-ae48-83c123d8da4c",
   "metadata": {},
   "outputs": [],
   "source": [
    "arr3=np.array([[10,20,30,40,50],[60,70,80,90,100],[15,25,35,45,55]])"
   ]
  },
  {
   "cell_type": "code",
   "execution_count": 15,
   "id": "1c1c9dda-adb5-46d9-a7e9-c6f1639f23ef",
   "metadata": {},
   "outputs": [
    {
     "data": {
      "text/plain": [
       "array([[ 10,  20,  30,  40,  50],\n",
       "       [ 60,  70,  80,  90, 100],\n",
       "       [ 15,  25,  35,  45,  55]])"
      ]
     },
     "execution_count": 15,
     "metadata": {},
     "output_type": "execute_result"
    }
   ],
   "source": [
    "arr3"
   ]
  }
 ],
 "metadata": {
  "kernelspec": {
   "display_name": "Python 3 (ipykernel)",
   "language": "python",
   "name": "python3"
  },
  "language_info": {
   "codemirror_mode": {
    "name": "ipython",
    "version": 3
   },
   "file_extension": ".py",
   "mimetype": "text/x-python",
   "name": "python",
   "nbconvert_exporter": "python",
   "pygments_lexer": "ipython3",
   "version": "3.13.5"
  }
 },
 "nbformat": 4,
 "nbformat_minor": 5
}
