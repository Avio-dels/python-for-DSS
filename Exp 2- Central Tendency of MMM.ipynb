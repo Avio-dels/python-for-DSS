{
 "cells": [
  {
   "cell_type": "markdown",
   "id": "2aed99a8-1f3b-4085-85d9-f99b2239050e",
   "metadata": {},
   "source": [
    "Central Tendancy of measures (Mean, Median, Mode)"
   ]
  },
  {
   "cell_type": "code",
   "execution_count": 15,
   "id": "2daac59c-fec0-4711-97ec-86ebf6d747ad",
   "metadata": {},
   "outputs": [],
   "source": [
    "#Exp no. : 2\n",
    "\n",
    "#Aim : To find Central Tendancy of measures (Mean, Median, Mode)\n"
   ]
  },
  {
   "cell_type": "code",
   "execution_count": 2,
   "id": "d503659a-2fe9-421d-805f-b0209c79785d",
   "metadata": {},
   "outputs": [],
   "source": [
    "#Name : Ayush N. Nagdive\n",
    "#Roll no. : 42\n",
    "#Section : B\n",
    "#Subject : PE-I"
   ]
  },
  {
   "cell_type": "code",
   "execution_count": 5,
   "id": "5b63284b-7f50-4cbd-94a4-4d7018d6cef9",
   "metadata": {},
   "outputs": [],
   "source": [
    "age=[21,22,25,23,24,26,25,25,28,29,27,29,26,24,23,23,23,21,23]"
   ]
  },
  {
   "cell_type": "code",
   "execution_count": 6,
   "id": "137ff417-1a97-4408-8ab9-cd9dbb3f9a47",
   "metadata": {},
   "outputs": [
    {
     "data": {
      "text/plain": [
       "[21, 22, 25, 23, 24, 26, 25, 25, 28, 29, 27, 29, 26, 24, 23, 23, 23, 21, 23]"
      ]
     },
     "execution_count": 6,
     "metadata": {},
     "output_type": "execute_result"
    }
   ],
   "source": [
    "\n",
    "age"
   ]
  },
  {
   "cell_type": "code",
   "execution_count": 7,
   "id": "3928fef5-2c00-4ab4-b40b-14800d9fb421",
   "metadata": {},
   "outputs": [],
   "source": [
    "import statistics\n"
   ]
  },
  {
   "cell_type": "code",
   "execution_count": 8,
   "id": "63ffe704-037c-424d-af76-f0a513dedc48",
   "metadata": {},
   "outputs": [],
   "source": [
    "Mean=statistics.mean(age)\n"
   ]
  },
  {
   "cell_type": "code",
   "execution_count": 9,
   "id": "5b7a7a66-3803-4385-bc38-54a1d18ef53c",
   "metadata": {},
   "outputs": [
    {
     "data": {
      "text/plain": [
       "24.57894736842105"
      ]
     },
     "execution_count": 9,
     "metadata": {},
     "output_type": "execute_result"
    }
   ],
   "source": [
    "\n",
    "Mean"
   ]
  },
  {
   "cell_type": "code",
   "execution_count": 10,
   "id": "e098fa6b-016a-4740-a4e2-66aa3f0f73a9",
   "metadata": {},
   "outputs": [],
   "source": [
    "Median=statistics.median(age)\n"
   ]
  },
  {
   "cell_type": "code",
   "execution_count": 11,
   "id": "a7fa6ef7-0077-4bba-84d1-583973091795",
   "metadata": {},
   "outputs": [
    {
     "data": {
      "text/plain": [
       "24"
      ]
     },
     "execution_count": 11,
     "metadata": {},
     "output_type": "execute_result"
    }
   ],
   "source": [
    "Median\n"
   ]
  },
  {
   "cell_type": "code",
   "execution_count": 12,
   "id": "5d91b588-2aab-4f24-bb0a-f851cffc6587",
   "metadata": {},
   "outputs": [],
   "source": [
    "Mode=statistics.mode(age)"
   ]
  },
  {
   "cell_type": "code",
   "execution_count": 13,
   "id": "ce41e09c-a298-4cc5-8e77-ba3658baaea8",
   "metadata": {},
   "outputs": [
    {
     "data": {
      "text/plain": [
       "23"
      ]
     },
     "execution_count": 13,
     "metadata": {},
     "output_type": "execute_result"
    }
   ],
   "source": [
    "\n",
    "Mode"
   ]
  }
 ],
 "metadata": {
  "kernelspec": {
   "display_name": "Python 3 (ipykernel)",
   "language": "python",
   "name": "python3"
  },
  "language_info": {
   "codemirror_mode": {
    "name": "ipython",
    "version": 3
   },
   "file_extension": ".py",
   "mimetype": "text/x-python",
   "name": "python",
   "nbconvert_exporter": "python",
   "pygments_lexer": "ipython3",
   "version": "3.13.5"
  }
 },
 "nbformat": 4,
 "nbformat_minor": 5
}
